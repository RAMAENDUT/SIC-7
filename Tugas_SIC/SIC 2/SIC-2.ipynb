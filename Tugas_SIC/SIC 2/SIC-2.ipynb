{
 "cells": [
  {
   "cell_type": "code",
   "execution_count": 1,
   "id": "5cc3b8f2",
   "metadata": {},
   "outputs": [
    {
     "name": "stdout",
     "output_type": "stream",
     "text": [
      "Nama Produk 1            :  Kopi Pagi\n",
      "Harga Produk 1           :  18000.5\n",
      "Nama Produk 2            :  Roti Cokelat\n",
      "Harga Produk 2           :  10000\n",
      "Status ketersediaan roti :  True\n"
     ]
    }
   ],
   "source": [
    "nama_produk = [\"Kopi Pagi\", \"Roti Cokelat\"]\n",
    "harga_produk = [18000.5, 10000]\n",
    "stock_roti = True\n",
    "\n",
    "print(\"Nama Produk 1            : \", nama_produk[0])\n",
    "print(\"Harga Produk 1           : \", harga_produk[0])\n",
    "print(\"Nama Produk 2            : \", nama_produk[1])\n",
    "print(\"Harga Produk 2           : \", harga_produk[1])\n",
    "print(\"Status ketersediaan roti : \", stock_roti)"
   ]
  },
  {
   "cell_type": "code",
   "execution_count": 15,
   "id": "b181d6de",
   "metadata": {},
   "outputs": [
    {
     "name": "stdout",
     "output_type": "stream",
     "text": [
      "Masukkan jumlah pesanan kopi\n",
      "Masukkan jumlah pesanan roti\n",
      "Jumlah pesanan kopi:  2\n",
      "Jumlah pesanan roti:  3 \n",
      "\n",
      "Tipe data awal jumlah kopi:  <class 'str'>\n",
      "Tipe data awal jumlah roti:  <class 'str'> \n",
      "\n",
      "Tipe data awal jumlah kopi:  <class 'int'>\n",
      "Tipe data awal jumlah roti:  <class 'int'>\n"
     ]
    }
   ],
   "source": [
    "print(\"Masukkan jumlah pesanan kopi\")\n",
    "Jumlah_kopi_str = input(\"Jumlah pesanan kopi: \")\n",
    "\n",
    "print(\"Masukkan jumlah pesanan roti\")\n",
    "Jumlah_roti_str = input(\"Jumlah pesanan roti: \")\n",
    "\n",
    "print(\"Jumlah pesanan kopi: \", Jumlah_kopi_str)\n",
    "print(\"Jumlah pesanan roti: \", Jumlah_roti_str, \"\\n\")\n",
    "print(\"Tipe data awal jumlah kopi: \", type(Jumlah_kopi_str))\n",
    "print(\"Tipe data awal jumlah roti: \", type(Jumlah_roti_str), \"\\n\")\n",
    "\n",
    "Jumlah_kopi_int = int(Jumlah_kopi_str)\n",
    "Jumlah_roti_int = int(Jumlah_roti_str)\n",
    "\n",
    "print(\"Tipe data awal jumlah kopi: \", type(Jumlah_kopi_int))\n",
    "print(\"Tipe data awal jumlah roti: \", type(Jumlah_roti_int))\n"
   ]
  },
  {
   "cell_type": "code",
   "execution_count": 13,
   "id": "f1729192",
   "metadata": {},
   "outputs": [
    {
     "name": "stdout",
     "output_type": "stream",
     "text": [
      "Total harga kopi:  36001.0\n",
      "Total harga roti:  30000\n",
      "Total belanja keseluruhan:  66001.0 \n",
      "\n",
      "36001.0  +  30000  =  66001.0\n",
      "50000  -  66001.0  =  -16001.0\n",
      "kembalian yang diterima adalah Rp -16001.0\n"
     ]
    }
   ],
   "source": [
    "Harga_kopi = harga_produk[0] * Jumlah_kopi_int\n",
    "Harga_roti = harga_produk[1] * Jumlah_roti_int\n",
    "Total_belanja = Harga_kopi + Harga_roti\n",
    "\n",
    "print(\"Total harga kopi: \", Harga_kopi)\n",
    "print(\"Total harga roti: \", Harga_roti)\n",
    "print(\"Total belanja keseluruhan: \", Total_belanja, \"\\n\")\n",
    "print(Harga_kopi, \" + \", Harga_roti, \" = \", Total_belanja)\n",
    "uang_bayar = 50000\n",
    "print(uang_bayar, \" - \", Total_belanja, \" = \", uang_bayar - Total_belanja)\n",
    "print(\"kembalian yang diterima adalah Rp\", uang_bayar - Total_belanja)"
   ]
  },
  {
   "cell_type": "code",
   "execution_count": 14,
   "id": "a9c246be",
   "metadata": {},
   "outputs": [
    {
     "name": "stdout",
     "output_type": "stream",
     "text": [
      "************************* \n",
      "\n",
      "Terima kasih anjay telah berbelanja di coffee shop bahagia  \n",
      "\n",
      "************************* \n",
      "\n",
      "Total harga kopi pagi: Rp 36001.0\n",
      "Total harga roti cokelat: Rp 30000\n",
      "Total belanja: Rp 66001.0\n"
     ]
    }
   ],
   "source": [
    "Nama_pelanggan = input(\"Masukkan nama lu: \")\n",
    "Pesan_terima_kasih = f\"Terima kasih {Nama_pelanggan} telah berbelanja di coffee shop bahagia \"\n",
    "print(\"*\"*25, \"\\n\")\n",
    "print(Pesan_terima_kasih, \"\\n\")\n",
    "print(\"*\"*25, \"\\n\")\n",
    "print(\"Total harga kopi pagi: Rp\", Harga_kopi)\n",
    "print(\"Total harga roti cokelat: Rp\", Harga_roti)\n",
    "print(\"Total belanja: Rp\", Total_belanja)"
   ]
  }
 ],
 "metadata": {
  "kernelspec": {
   "display_name": "Python 3",
   "language": "python",
   "name": "python3"
  },
  "language_info": {
   "codemirror_mode": {
    "name": "ipython",
    "version": 3
   },
   "file_extension": ".py",
   "mimetype": "text/x-python",
   "name": "python",
   "nbconvert_exporter": "python",
   "pygments_lexer": "ipython3",
   "version": "3.12.6"
  }
 },
 "nbformat": 4,
 "nbformat_minor": 5
}
